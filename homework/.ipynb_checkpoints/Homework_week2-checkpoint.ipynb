{
 "cells": [
  {
   "cell_type": "markdown",
   "metadata": {
    "id": "BWWKP_0FBagw"
   },
   "source": [
    "# Using Python for Research Homework: Week 2\n",
    "\n",
    "In this homework, we will use the tools we've covered in the past two weeks to create a tic-tac-toe (noughts and crosses) simulator and evaluate basic winning strategies."
   ]
  },
  {
   "cell_type": "markdown",
   "metadata": {
    "id": "IZRLaqsjBagy"
   },
   "source": [
    "### Exercise 1\n",
    "\n",
    "Tic-tac-toe (or noughts and crosses) is a simple strategy game in which two players take turns placing a mark on a 3x3 board, attempting to make a row, column, or diagonal of three with their mark. In this homework, we will use the tools we've covered in the past two weeks to create a tic-tac-toe simulator and evaluate basic winning strategies.\n",
    "\n",
    "In the following exercises, we will learn to create a tic-tac-toe board, place markers on the board, evaluate if either player has won, and use this to simulate two basic strategies.\n",
    "\n",
    "#### Instructions \n",
    "\n",
    "- For our tic-tac-toe board, we will use a numpy array with dimension 3 by 3. \n",
    "- Make a function `create_board()` that creates such a board with the value of each cell set to the integer `0`.\n",
    "- Call `create_board()` and store it."
   ]
  },
  {
   "cell_type": "code",
   "execution_count": 1,
   "metadata": {
    "executionInfo": {
     "elapsed": 322,
     "status": "ok",
     "timestamp": 1642449098214,
     "user": {
      "displayName": "María Ajenjo Bauzá",
      "photoUrl": "https://lh3.googleusercontent.com/a/default-user=s64",
      "userId": "02845135186592420885"
     },
     "user_tz": -60
    },
    "id": "gbvyQFZRBag1"
   },
   "outputs": [],
   "source": [
    "# write your code here!\n",
    "import numpy as np\n",
    "def create_board(dim):\n",
    "    \"\"\"\n",
    "    Argument:\n",
    "    dim: tuple \n",
    "      References the dimensions of the board\n",
    "    \"\"\"\n",
    "    zero_matrix = np.zeros((dim), dtype=int)\n",
    "    return zero_matrix"
   ]
  },
  {
   "cell_type": "code",
   "execution_count": 2,
   "metadata": {
    "colab": {
     "base_uri": "https://localhost:8080/"
    },
    "executionInfo": {
     "elapsed": 3,
     "status": "ok",
     "timestamp": 1642448867158,
     "user": {
      "displayName": "María Ajenjo Bauzá",
      "photoUrl": "https://lh3.googleusercontent.com/a/default-user=s64",
      "userId": "02845135186592420885"
     },
     "user_tz": -60
    },
    "id": "idqKPQsNDEaI",
    "outputId": "0b26cf15-c69a-4561-fa27-621e129ac1b0"
   },
   "outputs": [
    {
     "data": {
      "text/plain": [
       "array([[0, 0, 0],\n",
       "       [0, 0, 0],\n",
       "       [0, 0, 0]])"
      ]
     },
     "execution_count": 2,
     "metadata": {},
     "output_type": "execute_result"
    }
   ],
   "source": [
    "zero_mx = create_board((3,3))\n",
    "zero_mx"
   ]
  },
  {
   "cell_type": "markdown",
   "metadata": {
    "id": "OJnuUtYUBag4"
   },
   "source": [
    "### Exercise 2\n",
    "\n",
    "Players 1 and 2 will take turns changing values of this array from a 0 to a 1 or 2, indicating the number of the player who places a marker there.\n",
    "\n",
    "#### Instructions \n",
    "\n",
    "- Create a function `place(board, player, position)`, where:\n",
    "    - `player` is the current player (an integer 1 or 2).\n",
    "    - `position` is a tuple of length 2 specifying a desired location to place their marker.\n",
    "    - Your function should only allow the current player to place a marker on the board (change the board position to their number) if that position is empty (zero).\n",
    "- Use `create_board()` to store a board as `board`, and use `place` to have Player 1 place a marker on location `(0, 0)`."
   ]
  },
  {
   "cell_type": "code",
   "execution_count": 3,
   "metadata": {
    "executionInfo": {
     "elapsed": 241,
     "status": "ok",
     "timestamp": 1642448870752,
     "user": {
      "displayName": "María Ajenjo Bauzá",
      "photoUrl": "https://lh3.googleusercontent.com/a/default-user=s64",
      "userId": "02845135186592420885"
     },
     "user_tz": -60
    },
    "id": "STmqxIFwBag5"
   },
   "outputs": [],
   "source": [
    "# write your code here!\n",
    "def place(board, player, position):\n",
    "    \"\"\"\n",
    "    Arguments:\n",
    "    board: numpy matrix\n",
    "      board to play\n",
    "    player: int\n",
    "      is the current player (an integer 1 or 2).\n",
    "    position: tuple\n",
    "      is a tuple of length 2 specifying a desired location to place their marker.\n",
    "    \"\"\"\n",
    "    dim_board = board.shape\n",
    "    # the position has to be inside the board and there has to be a 0\n",
    "    if position[0] <= dim_board[0] and position[1] <= dim_board[1] and board[position] == 0:\n",
    "        board[position] = player\n",
    "    elif position[0] <= dim_board[0] and position[1] <= dim_board[1] and board[position] != 0:\n",
    "        print(\"The position\", position, \"is already used and its value is\", board[position])\n",
    "    elif position[0] <= dim_board[0] or position[1] <= dim_board[1]:\n",
    "        print(\"This position is outside the board, the board dimensions are:\", dim_board)\n",
    "    return board"
   ]
  },
  {
   "cell_type": "code",
   "execution_count": 4,
   "metadata": {
    "colab": {
     "base_uri": "https://localhost:8080/"
    },
    "executionInfo": {
     "elapsed": 2,
     "status": "ok",
     "timestamp": 1642448872262,
     "user": {
      "displayName": "María Ajenjo Bauzá",
      "photoUrl": "https://lh3.googleusercontent.com/a/default-user=s64",
      "userId": "02845135186592420885"
     },
     "user_tz": -60
    },
    "id": "sGqM2kr9FvFh",
    "outputId": "7a35e960-b90e-404c-cd04-ec417b294470"
   },
   "outputs": [
    {
     "data": {
      "text/plain": [
       "array([[1, 0, 0],\n",
       "       [0, 0, 0],\n",
       "       [0, 0, 0]])"
      ]
     },
     "execution_count": 4,
     "metadata": {},
     "output_type": "execute_result"
    }
   ],
   "source": [
    "# test the function\n",
    "place(board=zero_mx, player=1, position=(0,0))"
   ]
  },
  {
   "cell_type": "code",
   "execution_count": 5,
   "metadata": {
    "colab": {
     "base_uri": "https://localhost:8080/"
    },
    "executionInfo": {
     "elapsed": 2,
     "status": "ok",
     "timestamp": 1642448874063,
     "user": {
      "displayName": "María Ajenjo Bauzá",
      "photoUrl": "https://lh3.googleusercontent.com/a/default-user=s64",
      "userId": "02845135186592420885"
     },
     "user_tz": -60
    },
    "id": "fpzpJ-FUGDUH",
    "outputId": "50f16485-1849-489d-c50e-9b2ebc1198b3"
   },
   "outputs": [
    {
     "name": "stdout",
     "output_type": "stream",
     "text": [
      "The position (0, 0) is already used and its value is 1\n"
     ]
    },
    {
     "data": {
      "text/plain": [
       "array([[1, 0, 0],\n",
       "       [0, 0, 0],\n",
       "       [0, 0, 0]])"
      ]
     },
     "execution_count": 5,
     "metadata": {},
     "output_type": "execute_result"
    }
   ],
   "source": [
    "# test the function\n",
    "place(board=zero_mx, player=2, position=(0,0))"
   ]
  },
  {
   "cell_type": "code",
   "execution_count": 6,
   "metadata": {
    "colab": {
     "base_uri": "https://localhost:8080/"
    },
    "executionInfo": {
     "elapsed": 2,
     "status": "ok",
     "timestamp": 1642448875669,
     "user": {
      "displayName": "María Ajenjo Bauzá",
      "photoUrl": "https://lh3.googleusercontent.com/a/default-user=s64",
      "userId": "02845135186592420885"
     },
     "user_tz": -60
    },
    "id": "iNHEQJ9SGtcw",
    "outputId": "8b2ac2ad-b496-456a-9087-a68b9d4abb8c"
   },
   "outputs": [
    {
     "name": "stdout",
     "output_type": "stream",
     "text": [
      "This position is outside the board, the board dimensions are: (3, 3)\n"
     ]
    },
    {
     "data": {
      "text/plain": [
       "array([[1, 0, 0],\n",
       "       [0, 0, 0],\n",
       "       [0, 0, 0]])"
      ]
     },
     "execution_count": 6,
     "metadata": {},
     "output_type": "execute_result"
    }
   ],
   "source": [
    "# test the function\n",
    "place(board=zero_mx, player=2, position=(4,0))"
   ]
  },
  {
   "cell_type": "markdown",
   "metadata": {
    "id": "IUupcPugBag5"
   },
   "source": [
    "### Exercise 3\n",
    "\n",
    "In this exercise, we will determine which positions are available to either player for placing their marker.\n",
    "\n",
    "#### Instructions \n",
    "- Create a function `possibilities(board)` that returns a list of all positions (tuples) on the board that are not occupied (0). (Hint: `numpy.where` is a handy function that returns a list of indices that meet a condition.)\n",
    "- `board` is already defined from previous exercises. Call `possibilities(board)` to see what it returns!"
   ]
  },
  {
   "cell_type": "code",
   "execution_count": 7,
   "metadata": {
    "executionInfo": {
     "elapsed": 284,
     "status": "ok",
     "timestamp": 1642450258394,
     "user": {
      "displayName": "María Ajenjo Bauzá",
      "photoUrl": "https://lh3.googleusercontent.com/a/default-user=s64",
      "userId": "02845135186592420885"
     },
     "user_tz": -60
    },
    "id": "l6y_um7IBag6"
   },
   "outputs": [],
   "source": [
    "# write your code here!\n",
    "def possibilities(board):\n",
    "    \"\"\"\n",
    "    Returns a list of all positions (tuples) on the board that are not occupied (0).\n",
    "    \"\"\"\n",
    "    empty_positions = []\n",
    "    empty_pos = np.where(board == 0)\n",
    "    if len(empty_pos) == 0:\n",
    "        pass\n",
    "    else:\n",
    "        for i in range(len(empty_pos[0])):\n",
    "            x = empty_pos[0][i]\n",
    "            y = empty_pos[1][i]\n",
    "            empty_positions.append((x,y))\n",
    "    return empty_positions"
   ]
  },
  {
   "cell_type": "code",
   "execution_count": 8,
   "metadata": {
    "colab": {
     "base_uri": "https://localhost:8080/"
    },
    "executionInfo": {
     "elapsed": 245,
     "status": "ok",
     "timestamp": 1642450260542,
     "user": {
      "displayName": "María Ajenjo Bauzá",
      "photoUrl": "https://lh3.googleusercontent.com/a/default-user=s64",
      "userId": "02845135186592420885"
     },
     "user_tz": -60
    },
    "id": "protJzV2JEnq",
    "outputId": "225fdc21-0f1e-47cd-bd26-9e14e92e2986"
   },
   "outputs": [
    {
     "data": {
      "text/plain": [
       "array([[1, 0, 0],\n",
       "       [0, 0, 0],\n",
       "       [0, 0, 0]])"
      ]
     },
     "execution_count": 8,
     "metadata": {},
     "output_type": "execute_result"
    }
   ],
   "source": [
    "zero_mx"
   ]
  },
  {
   "cell_type": "code",
   "execution_count": 9,
   "metadata": {
    "colab": {
     "base_uri": "https://localhost:8080/"
    },
    "executionInfo": {
     "elapsed": 340,
     "status": "ok",
     "timestamp": 1642450262302,
     "user": {
      "displayName": "María Ajenjo Bauzá",
      "photoUrl": "https://lh3.googleusercontent.com/a/default-user=s64",
      "userId": "02845135186592420885"
     },
     "user_tz": -60
    },
    "id": "f0lOoqRcJRRI",
    "outputId": "b5ddfaa9-f303-43b7-d3b2-909faaacba03"
   },
   "outputs": [
    {
     "data": {
      "text/plain": [
       "[(0, 1), (0, 2), (1, 0), (1, 1), (1, 2), (2, 0), (2, 1), (2, 2)]"
      ]
     },
     "execution_count": 9,
     "metadata": {},
     "output_type": "execute_result"
    }
   ],
   "source": [
    "possibilities(zero_mx)"
   ]
  },
  {
   "cell_type": "code",
   "execution_count": 10,
   "metadata": {
    "executionInfo": {
     "elapsed": 256,
     "status": "ok",
     "timestamp": 1642450263551,
     "user": {
      "displayName": "María Ajenjo Bauzá",
      "photoUrl": "https://lh3.googleusercontent.com/a/default-user=s64",
      "userId": "02845135186592420885"
     },
     "user_tz": -60
    },
    "id": "iegsX2j1nArO"
   },
   "outputs": [],
   "source": [
    "matrix_full = np.array([[1, 2, 2],\n",
    "       [2, 1, 2],\n",
    "       [1, 2, 1]])"
   ]
  },
  {
   "cell_type": "code",
   "execution_count": 11,
   "metadata": {
    "colab": {
     "base_uri": "https://localhost:8080/"
    },
    "executionInfo": {
     "elapsed": 262,
     "status": "ok",
     "timestamp": 1642450264890,
     "user": {
      "displayName": "María Ajenjo Bauzá",
      "photoUrl": "https://lh3.googleusercontent.com/a/default-user=s64",
      "userId": "02845135186592420885"
     },
     "user_tz": -60
    },
    "id": "oxNmHvj7nJbc",
    "outputId": "e2f15a6d-493e-4fd1-fa3a-03b64c996ef9"
   },
   "outputs": [
    {
     "data": {
      "text/plain": [
       "[]"
      ]
     },
     "execution_count": 11,
     "metadata": {},
     "output_type": "execute_result"
    }
   ],
   "source": [
    "possibilities(matrix_full)"
   ]
  },
  {
   "cell_type": "markdown",
   "metadata": {
    "id": "gn9vqMCMBag6"
   },
   "source": [
    "### Exercise 4\n",
    "\n",
    "The next step is for the current player to place a marker among the available positions. In this exercise, we will select an available board position at random and place a marker there.\n",
    "\n",
    "#### Instructions \n",
    "\n",
    "- Write a function `random_place(board, player)` that places a marker for the current player at random among all the available positions (those currently set to 0).\n",
    "    - Find possible placements with `possibilities(board)`.\n",
    "    - Select one possible placement at random using `random.choice(selection)`.\n",
    "- `board` is already defined from previous exercises. Call `random_place(board, player)` to place a random marker for Player 2, and store this as board to update its value."
   ]
  },
  {
   "cell_type": "code",
   "execution_count": 12,
   "metadata": {
    "executionInfo": {
     "elapsed": 263,
     "status": "ok",
     "timestamp": 1642450402587,
     "user": {
      "displayName": "María Ajenjo Bauzá",
      "photoUrl": "https://lh3.googleusercontent.com/a/default-user=s64",
      "userId": "02845135186592420885"
     },
     "user_tz": -60
    },
    "id": "mZGxu6h3Bag7"
   },
   "outputs": [],
   "source": [
    "import random \n",
    "random.seed(1)\n",
    "\n",
    "# write your code here!\n",
    "def random_place(board, player):\n",
    "    \"\"\"\n",
    "    Places a marker for the current player at random among all the available positions (those currently set to 0).\n",
    "    \"\"\"\n",
    "    available_positions = possibilities(board)\n",
    "    if len(available_positions) > 0:\n",
    "        pos_selected = random.choice(available_positions)\n",
    "        place(board, player, pos_selected)\n",
    "    elif len(available_positions) == 0:\n",
    "        print(\"There are no possitions available\")\n",
    "    return board"
   ]
  },
  {
   "cell_type": "code",
   "execution_count": 13,
   "metadata": {
    "colab": {
     "base_uri": "https://localhost:8080/"
    },
    "executionInfo": {
     "elapsed": 256,
     "status": "ok",
     "timestamp": 1642450404809,
     "user": {
      "displayName": "María Ajenjo Bauzá",
      "photoUrl": "https://lh3.googleusercontent.com/a/default-user=s64",
      "userId": "02845135186592420885"
     },
     "user_tz": -60
    },
    "id": "okmo2OSMKawi",
    "outputId": "59bf2651-bf35-4bf5-903c-56f04c63788e"
   },
   "outputs": [
    {
     "data": {
      "text/plain": [
       "array([[1, 0, 0],\n",
       "       [2, 0, 0],\n",
       "       [0, 0, 0]])"
      ]
     },
     "execution_count": 13,
     "metadata": {},
     "output_type": "execute_result"
    }
   ],
   "source": [
    "random_place(zero_mx, 2)"
   ]
  },
  {
   "cell_type": "code",
   "execution_count": 14,
   "metadata": {
    "colab": {
     "base_uri": "https://localhost:8080/"
    },
    "executionInfo": {
     "elapsed": 243,
     "status": "ok",
     "timestamp": 1642450407330,
     "user": {
      "displayName": "María Ajenjo Bauzá",
      "photoUrl": "https://lh3.googleusercontent.com/a/default-user=s64",
      "userId": "02845135186592420885"
     },
     "user_tz": -60
    },
    "id": "rEzCUnQnqrZc",
    "outputId": "ff34f8fd-c374-4edd-950e-ebef1b3c382c"
   },
   "outputs": [
    {
     "name": "stdout",
     "output_type": "stream",
     "text": [
      "There are no possitions available\n"
     ]
    },
    {
     "data": {
      "text/plain": [
       "array([[1, 2, 2],\n",
       "       [2, 1, 2],\n",
       "       [1, 2, 1]])"
      ]
     },
     "execution_count": 14,
     "metadata": {},
     "output_type": "execute_result"
    }
   ],
   "source": [
    "random_place(board=matrix_full, player=1)"
   ]
  },
  {
   "cell_type": "markdown",
   "metadata": {
    "id": "_7ODu6qsBag8"
   },
   "source": [
    "### Exercise 5\n",
    "\n",
    "We will now have both players place three markers each.\n",
    "\n",
    "#### Instructions \n",
    "\n",
    "- A new `board` is already given. Call `random_place(board, player)` to place three pieces each on board for players 1 and 2.\n",
    "- Print board to see your result."
   ]
  },
  {
   "cell_type": "code",
   "execution_count": 15,
   "metadata": {
    "colab": {
     "base_uri": "https://localhost:8080/"
    },
    "executionInfo": {
     "elapsed": 264,
     "status": "ok",
     "timestamp": 1642449663444,
     "user": {
      "displayName": "María Ajenjo Bauzá",
      "photoUrl": "https://lh3.googleusercontent.com/a/default-user=s64",
      "userId": "02845135186592420885"
     },
     "user_tz": -60
    },
    "id": "oXhjPp0gBag9",
    "outputId": "8981959a-a9d6-404a-a82c-68a811127740"
   },
   "outputs": [
    {
     "data": {
      "text/plain": [
       "array([[2, 2, 1],\n",
       "       [0, 1, 0],\n",
       "       [0, 1, 2]])"
      ]
     },
     "execution_count": 15,
     "metadata": {},
     "output_type": "execute_result"
    }
   ],
   "source": [
    "random.seed(1)\n",
    "board = create_board((3,3))\n",
    "\n",
    "# write your code here!\n",
    "for i in range(3):\n",
    "    for player in [1, 2]:\n",
    "        random_place(board, player)\n",
    "board"
   ]
  },
  {
   "cell_type": "markdown",
   "metadata": {
    "id": "VyjTM9CzBag-"
   },
   "source": [
    "### Exercise 6\n",
    "\n",
    "In the next few exercises, we will make functions that check whether either player has won the game.\n",
    "\n",
    "#### Instructions \n",
    "- Make a function `row_win(board, player)` that takes the player (integer) and determines if any row consists of only their marker. \n",
    "    - Have it return `True` if this condition is met and `False` otherwise.\n",
    "- `board` is already defined from previous exercises. Call `row_win` to check if Player 1 has a complete row."
   ]
  },
  {
   "cell_type": "code",
   "execution_count": 16,
   "metadata": {
    "colab": {
     "base_uri": "https://localhost:8080/"
    },
    "executionInfo": {
     "elapsed": 247,
     "status": "ok",
     "timestamp": 1642450432864,
     "user": {
      "displayName": "María Ajenjo Bauzá",
      "photoUrl": "https://lh3.googleusercontent.com/a/default-user=s64",
      "userId": "02845135186592420885"
     },
     "user_tz": -60
    },
    "id": "_UkgKCO-NXHh",
    "outputId": "f63cc381-de42-447f-bc58-66e96f0a4a2a"
   },
   "outputs": [
    {
     "data": {
      "text/plain": [
       "array([[2, 2, 1],\n",
       "       [0, 1, 0],\n",
       "       [0, 1, 2]])"
      ]
     },
     "execution_count": 16,
     "metadata": {},
     "output_type": "execute_result"
    }
   ],
   "source": [
    "board"
   ]
  },
  {
   "cell_type": "code",
   "execution_count": 17,
   "metadata": {
    "executionInfo": {
     "elapsed": 1,
     "status": "ok",
     "timestamp": 1642450433812,
     "user": {
      "displayName": "María Ajenjo Bauzá",
      "photoUrl": "https://lh3.googleusercontent.com/a/default-user=s64",
      "userId": "02845135186592420885"
     },
     "user_tz": -60
    },
    "id": "ebPL13jbBag-"
   },
   "outputs": [],
   "source": [
    "# write your code here!\n",
    "def row_win(board, player):\n",
    "    \"\"\"\n",
    "    takes the player (integer) and determines if any row consists of only their marker. \n",
    "    Returns True or False.\n",
    "    \"\"\"\n",
    "    if np.any(np.all(board==player, axis=1)):\n",
    "        return True\n",
    "    else:\n",
    "        return False"
   ]
  },
  {
   "cell_type": "code",
   "execution_count": 18,
   "metadata": {
    "colab": {
     "base_uri": "https://localhost:8080/"
    },
    "executionInfo": {
     "elapsed": 260,
     "status": "ok",
     "timestamp": 1642450435399,
     "user": {
      "displayName": "María Ajenjo Bauzá",
      "photoUrl": "https://lh3.googleusercontent.com/a/default-user=s64",
      "userId": "02845135186592420885"
     },
     "user_tz": -60
    },
    "id": "RwNcUDBaNLQW",
    "outputId": "ff9e1c83-a4db-497d-f078-a60f1ec81981"
   },
   "outputs": [
    {
     "data": {
      "text/plain": [
       "False"
      ]
     },
     "execution_count": 18,
     "metadata": {},
     "output_type": "execute_result"
    }
   ],
   "source": [
    "row_win(board, 1)"
   ]
  },
  {
   "cell_type": "code",
   "execution_count": 19,
   "metadata": {
    "colab": {
     "base_uri": "https://localhost:8080/"
    },
    "executionInfo": {
     "elapsed": 249,
     "status": "ok",
     "timestamp": 1642450505026,
     "user": {
      "displayName": "María Ajenjo Bauzá",
      "photoUrl": "https://lh3.googleusercontent.com/a/default-user=s64",
      "userId": "02845135186592420885"
     },
     "user_tz": -60
    },
    "id": "9N-dJRxGrNQs",
    "outputId": "fa37f3b8-6374-439a-8730-148abb55e31e"
   },
   "outputs": [
    {
     "data": {
      "text/plain": [
       "True"
      ]
     },
     "execution_count": 19,
     "metadata": {},
     "output_type": "execute_result"
    }
   ],
   "source": [
    "array_row = np.array([[2, 2, 2],\n",
    "       [0, 2, 0],\n",
    "       [0, 1, 2]])\n",
    "row_win(array_row, 2)"
   ]
  },
  {
   "cell_type": "markdown",
   "metadata": {
    "id": "_oQgVin9Bag_"
   },
   "source": [
    "### Exercise 7\n",
    "\n",
    "In the next few exercises, we will make functions that verify if either player has won the game.\n",
    "\n",
    "#### Instructions \n",
    "- Make a function `col_win(board, player)` that takes the player (integer) and determines if any column consists of only their marker. \n",
    "    - Have it return `True` if this condition is met and `False` otherwise.\n",
    "- `board` is already defined from previous exercises. Call `col_win` to check if Player 1 has a complete row."
   ]
  },
  {
   "cell_type": "code",
   "execution_count": 20,
   "metadata": {
    "executionInfo": {
     "elapsed": 245,
     "status": "ok",
     "timestamp": 1642449688147,
     "user": {
      "displayName": "María Ajenjo Bauzá",
      "photoUrl": "https://lh3.googleusercontent.com/a/default-user=s64",
      "userId": "02845135186592420885"
     },
     "user_tz": -60
    },
    "id": "L_y9QTU1Bag_"
   },
   "outputs": [],
   "source": [
    "# write your code here! \n",
    "def col_win(board, player):\n",
    "    \"\"\"\n",
    "    takes the player (integer) and determines if any column consists of only their marker. \n",
    "    Returns True or False.\n",
    "    \"\"\"\n",
    "    if np.any(np.all(board==player, axis=0)):\n",
    "        return True\n",
    "    else:\n",
    "        return False"
   ]
  },
  {
   "cell_type": "code",
   "execution_count": 21,
   "metadata": {
    "colab": {
     "base_uri": "https://localhost:8080/"
    },
    "executionInfo": {
     "elapsed": 2,
     "status": "ok",
     "timestamp": 1642449689160,
     "user": {
      "displayName": "María Ajenjo Bauzá",
      "photoUrl": "https://lh3.googleusercontent.com/a/default-user=s64",
      "userId": "02845135186592420885"
     },
     "user_tz": -60
    },
    "id": "L2kiNcuONvnZ",
    "outputId": "511ec110-5be0-450b-b289-e40d250d3e35"
   },
   "outputs": [
    {
     "data": {
      "text/plain": [
       "False"
      ]
     },
     "execution_count": 21,
     "metadata": {},
     "output_type": "execute_result"
    }
   ],
   "source": [
    "col_win(board, 1)"
   ]
  },
  {
   "cell_type": "markdown",
   "metadata": {
    "id": "9k8-jGPdBahA"
   },
   "source": [
    "### Exercise 8\n",
    "\n",
    "In the next few exercises, we will make functions that verify if either player has won the game.\n",
    "\n",
    "#### Instructions \n",
    "- Finally, create a function `diag_win(board, player)` that tests if either diagonal of the board consists of only their marker. Have it return `True` if this condition is met, and `False` otherwise.\n",
    "- `board` has been slightly modified from a previous exercise. Call `diag_win` to check if Player 2 has a complete diagonal."
   ]
  },
  {
   "cell_type": "code",
   "execution_count": 22,
   "metadata": {
    "executionInfo": {
     "elapsed": 287,
     "status": "ok",
     "timestamp": 1642449690585,
     "user": {
      "displayName": "María Ajenjo Bauzá",
      "photoUrl": "https://lh3.googleusercontent.com/a/default-user=s64",
      "userId": "02845135186592420885"
     },
     "user_tz": -60
    },
    "id": "ebt-nr6OBahA"
   },
   "outputs": [],
   "source": [
    "board[1,1] = 2\n",
    "\n",
    "# write your code here!\n",
    "def diag_win(board, player):\n",
    "    \"\"\"\n",
    "    takes the player (integer) and determines if any diagonal consists of only their marker. \n",
    "    Returns True or False.\n",
    "    \"\"\"\n",
    "    if np.all(np.diag(board)==player) or np.all(np.diag(np.fliplr(board))==player):\n",
    "    # np.diag returns the diagonal of the array\n",
    "    # np.fliplr rearranges columns in reverse order\n",
    "        return True\n",
    "    else:\n",
    "        return False"
   ]
  },
  {
   "cell_type": "code",
   "execution_count": 23,
   "metadata": {
    "colab": {
     "base_uri": "https://localhost:8080/"
    },
    "executionInfo": {
     "elapsed": 5,
     "status": "ok",
     "timestamp": 1642449691492,
     "user": {
      "displayName": "María Ajenjo Bauzá",
      "photoUrl": "https://lh3.googleusercontent.com/a/default-user=s64",
      "userId": "02845135186592420885"
     },
     "user_tz": -60
    },
    "id": "WEYwTrTxOkl9",
    "outputId": "b0fcb94d-96de-4edc-aca2-bc270cf16174"
   },
   "outputs": [
    {
     "data": {
      "text/plain": [
       "True"
      ]
     },
     "execution_count": 23,
     "metadata": {},
     "output_type": "execute_result"
    }
   ],
   "source": [
    "diag_win(board,2)"
   ]
  },
  {
   "cell_type": "markdown",
   "metadata": {
    "id": "Y-LyCtdUBahB"
   },
   "source": [
    "### Exercise 9\n",
    "\n",
    "In the next few exercises, we will make functions that check whether either player has won the game.\n",
    "\n",
    "#### Instructions \n",
    "- Create a function `evaluate(board)` that uses `row_win`, `col_win`, and `diag_win` functions for both players. If one of them has won, return that player's number. If the board is full but no one has won, return -1. Otherwise, return 0.\n",
    "- `board` is already defined from previous exercises. Call evaluate to see if either player has won the game yet."
   ]
  },
  {
   "cell_type": "code",
   "execution_count": 66,
   "metadata": {
    "executionInfo": {
     "elapsed": 249,
     "status": "ok",
     "timestamp": 1642449695302,
     "user": {
      "displayName": "María Ajenjo Bauzá",
      "photoUrl": "https://lh3.googleusercontent.com/a/default-user=s64",
      "userId": "02845135186592420885"
     },
     "user_tz": -60
    },
    "id": "20SOjN-aBahB"
   },
   "outputs": [],
   "source": [
    "def evaluate(board):\n",
    "    winner = 0\n",
    "    for player in [1, 2]:\n",
    "        if row_win(board, player) or col_win(board,player) or diag_win(board,player) == True:\n",
    "            winner = player\n",
    "            print(\"The winner is player \", winner)\n",
    "        pass\n",
    "    if np.any(board == 0) and winner == 0:\n",
    "        print(\"There is no winner yet\")\n",
    "    elif np.all(board != 0) and winner == 0:\n",
    "        winner = -1\n",
    "        print(\"There is a draw\")\n",
    "    return winner"
   ]
  },
  {
   "cell_type": "code",
   "execution_count": 67,
   "metadata": {
    "colab": {
     "base_uri": "https://localhost:8080/"
    },
    "executionInfo": {
     "elapsed": 348,
     "status": "ok",
     "timestamp": 1642449696548,
     "user": {
      "displayName": "María Ajenjo Bauzá",
      "photoUrl": "https://lh3.googleusercontent.com/a/default-user=s64",
      "userId": "02845135186592420885"
     },
     "user_tz": -60
    },
    "id": "Ia6XtrxOZZxH",
    "outputId": "eccf9fc5-197e-4e15-f356-2420ca0b2e6e"
   },
   "outputs": [
    {
     "name": "stdout",
     "output_type": "stream",
     "text": [
      "The winner is player  2\n"
     ]
    },
    {
     "data": {
      "text/plain": [
       "2"
      ]
     },
     "execution_count": 67,
     "metadata": {},
     "output_type": "execute_result"
    }
   ],
   "source": [
    "evaluate(board)"
   ]
  },
  {
   "cell_type": "code",
   "execution_count": 68,
   "metadata": {
    "executionInfo": {
     "elapsed": 254,
     "status": "ok",
     "timestamp": 1642449709335,
     "user": {
      "displayName": "María Ajenjo Bauzá",
      "photoUrl": "https://lh3.googleusercontent.com/a/default-user=s64",
      "userId": "02845135186592420885"
     },
     "user_tz": -60
    },
    "id": "7XSzm1xoYKh2"
   },
   "outputs": [],
   "source": [
    "board2 = np.array([[0, 2, 1],\n",
    "       [0, 0, 0],\n",
    "       [2, 2, 1]])"
   ]
  },
  {
   "cell_type": "code",
   "execution_count": 69,
   "metadata": {
    "colab": {
     "base_uri": "https://localhost:8080/"
    },
    "executionInfo": {
     "elapsed": 7,
     "status": "ok",
     "timestamp": 1642449710244,
     "user": {
      "displayName": "María Ajenjo Bauzá",
      "photoUrl": "https://lh3.googleusercontent.com/a/default-user=s64",
      "userId": "02845135186592420885"
     },
     "user_tz": -60
    },
    "id": "beZN54HfQ2il",
    "outputId": "c1a061b2-9a90-4313-e6fd-455b60aab96a"
   },
   "outputs": [
    {
     "name": "stdout",
     "output_type": "stream",
     "text": [
      "There is no winner yet\n"
     ]
    },
    {
     "data": {
      "text/plain": [
       "0"
      ]
     },
     "execution_count": 69,
     "metadata": {},
     "output_type": "execute_result"
    }
   ],
   "source": [
    "evaluate(board2)"
   ]
  },
  {
   "cell_type": "code",
   "execution_count": 70,
   "metadata": {
    "executionInfo": {
     "elapsed": 263,
     "status": "ok",
     "timestamp": 1642449712313,
     "user": {
      "displayName": "María Ajenjo Bauzá",
      "photoUrl": "https://lh3.googleusercontent.com/a/default-user=s64",
      "userId": "02845135186592420885"
     },
     "user_tz": -60
    },
    "id": "t4sFQeqCajWu"
   },
   "outputs": [],
   "source": [
    "board3 = np.array([[2, 2, 1],\n",
    "       [1, 1, 2],\n",
    "       [2, 2, 1]])"
   ]
  },
  {
   "cell_type": "code",
   "execution_count": 71,
   "metadata": {
    "colab": {
     "base_uri": "https://localhost:8080/"
    },
    "executionInfo": {
     "elapsed": 3,
     "status": "ok",
     "timestamp": 1642449713167,
     "user": {
      "displayName": "María Ajenjo Bauzá",
      "photoUrl": "https://lh3.googleusercontent.com/a/default-user=s64",
      "userId": "02845135186592420885"
     },
     "user_tz": -60
    },
    "id": "7wHBcX9OaoFW",
    "outputId": "8726bad4-64d6-47e0-fadf-1b48345e60dc"
   },
   "outputs": [
    {
     "name": "stdout",
     "output_type": "stream",
     "text": [
      "There is a draw\n"
     ]
    },
    {
     "data": {
      "text/plain": [
       "-1"
      ]
     },
     "execution_count": 71,
     "metadata": {},
     "output_type": "execute_result"
    }
   ],
   "source": [
    "evaluate(board3)"
   ]
  },
  {
   "cell_type": "markdown",
   "metadata": {
    "id": "1q-IJqwgBahC"
   },
   "source": [
    "### Exercise 10\n",
    "\n",
    "In this exercise, we will use all the functions we have made to simulate an entire game.\n",
    "\n",
    "#### Instructions \n",
    "\n",
    "- `create_board()`, `random_place(board, player)`, and `evaluate(board)` have been created in previous exercises. Create a function `play_game()` that:\n",
    "    - Creates a board.\n",
    "    - Alternates taking turns between two players (beginning with Player 1), placing a marker during each turn.\n",
    "    - Evaluates the board for a winner after each placement.\n",
    "    - Continues the game until one player wins (returning 1 or 2 to reflect the winning player), or the game is a draw (returning -1).\n",
    "- Call play_game 1000 times, and store the results of the game in a list called `results`."
   ]
  },
  {
   "cell_type": "code",
   "execution_count": 30,
   "metadata": {
    "executionInfo": {
     "elapsed": 247,
     "status": "ok",
     "timestamp": 1642450551612,
     "user": {
      "displayName": "María Ajenjo Bauzá",
      "photoUrl": "https://lh3.googleusercontent.com/a/default-user=s64",
      "userId": "02845135186592420885"
     },
     "user_tz": -60
    },
    "id": "SE87TmAqby00"
   },
   "outputs": [],
   "source": [
    "# Functions without prints\n",
    "def place(board, player, position):\n",
    "    \"\"\"\n",
    "    Arguments:\n",
    "    board: numpy matrix\n",
    "      board to play\n",
    "    player: int\n",
    "      is the current player (an integer 1 or 2).\n",
    "    position: tuple\n",
    "      is a tuple of length 2 specifying a desired location to place their marker.\n",
    "    \"\"\"\n",
    "    dim_board = board.shape\n",
    "    # the position has to be inside the board and there has to be a 0\n",
    "    if position[0] <= dim_board[0] and position[1] <= dim_board[1] and board[position] == 0:\n",
    "        board[position] = player\n",
    "    elif position[0] <= dim_board[0] and position[1] <= dim_board[1] and board[position] != 0:\n",
    "        pass\n",
    "  #   print(\"The position\", position, \"is already used and its value is\", board[position])\n",
    "    elif position[0] <= dim_board[0] or position[1] <= dim_board[1]:\n",
    "        pass\n",
    "  #   print(\"This position is outside the board, the board dimensions are:\", dim_board)\n",
    "    return board\n",
    "\n",
    "def random_place(board, player):\n",
    "    \"\"\"\n",
    "    Places a marker for the current player at random among all the available positions (those currently set to 0).\n",
    "    \"\"\"\n",
    "    available_positions = possibilities(board)\n",
    "    if len(available_positions) > 0:\n",
    "        pos_selected = random.choice(available_positions)\n",
    "        place(board, player, pos_selected)\n",
    "    elif len(available_positions) == 0:\n",
    "        pass\n",
    "    #   print(\"There are no possitions available\")\n",
    "    return board\n",
    "\n",
    "def evaluate(board):\n",
    "    winner = 0\n",
    "    for player in [1, 2]:\n",
    "        if row_win(board, player) or col_win(board,player) or diag_win(board,player) == True:\n",
    "            winner = player\n",
    "        # print(\"The winner is player \", winner)\n",
    "          pass\n",
    "    if np.any(board == 0) and winner == 0:\n",
    "        winner = 0\n",
    "        # print(\"There is no winner yet\")\n",
    "    elif np.all(board != 0) and winner == 0:\n",
    "        winner = -1\n",
    "        # print(\"There is a draw\")\n",
    "    return winner"
   ]
  },
  {
   "cell_type": "code",
   "execution_count": 31,
   "metadata": {
    "executionInfo": {
     "elapsed": 336,
     "status": "ok",
     "timestamp": 1642451572579,
     "user": {
      "displayName": "María Ajenjo Bauzá",
      "photoUrl": "https://lh3.googleusercontent.com/a/default-user=s64",
      "userId": "02845135186592420885"
     },
     "user_tz": -60
    },
    "id": "v3fv3YV3BahC"
   },
   "outputs": [],
   "source": [
    "random.seed(1)\n",
    "\n",
    "# write your code here! \n",
    "def play_game(dim):\n",
    "    \"\"\"\n",
    "    Arguments:\n",
    "    -----------\n",
    "    dim : tuple\n",
    "    dimensions of the board\n",
    "    \"\"\"\n",
    "    board = create_board(dim)\n",
    "    evaluation = evaluate(board)\n",
    "    while evaluation == 0:\n",
    "        for player in [1,2]:\n",
    "            random_place(board, player)\n",
    "            evaluation = evaluate(board)\n",
    "    return evaluation"
   ]
  },
  {
   "cell_type": "code",
   "execution_count": 32,
   "metadata": {
    "colab": {
     "base_uri": "https://localhost:8080/"
    },
    "executionInfo": {
     "elapsed": 430,
     "status": "ok",
     "timestamp": 1642451574628,
     "user": {
      "displayName": "María Ajenjo Bauzá",
      "photoUrl": "https://lh3.googleusercontent.com/a/default-user=s64",
      "userId": "02845135186592420885"
     },
     "user_tz": -60
    },
    "id": "LgH5r83pbnu-",
    "outputId": "c377261e-c07a-4a9e-d5b4-0b54f68886a5"
   },
   "outputs": [
    {
     "data": {
      "text/plain": [
       "1"
      ]
     },
     "execution_count": 32,
     "metadata": {},
     "output_type": "execute_result"
    }
   ],
   "source": [
    "play_game((3,3))"
   ]
  },
  {
   "cell_type": "code",
   "execution_count": 33,
   "metadata": {
    "executionInfo": {
     "elapsed": 247,
     "status": "ok",
     "timestamp": 1642449988123,
     "user": {
      "displayName": "María Ajenjo Bauzá",
      "photoUrl": "https://lh3.googleusercontent.com/a/default-user=s64",
      "userId": "02845135186592420885"
     },
     "user_tz": -60
    },
    "id": "OVKDNe0rohvV"
   },
   "outputs": [],
   "source": [
    "import tqdm.notebook as tq"
   ]
  },
  {
   "cell_type": "code",
   "execution_count": 61,
   "metadata": {
    "colab": {
     "base_uri": "https://localhost:8080/",
     "height": 86,
     "referenced_widgets": [
      "b2ab3495a58e4e80a4a95e3ca6f9c040",
      "a7ff2d56264049ce96659ed40eccad39",
      "cccb7175537b495b968049df51c33991",
      "a3ce371ab8db467c91cd41092510b12e",
      "3f3be4857a874dcf84d34444f2ff8450",
      "d4f8469e0b4c4847b2e100a2e32d7f98",
      "3ace9d8fa3c444c59da915b580c9af72",
      "ede3042c5ac84e8a92d70f76a7acd951",
      "db81613be7f64510b7c013c2944f2dec",
      "f05c24c61edc474a86bc4ed7eb711105",
      "421c3fa76ba34f8394cb5a2e41b1bdfc"
     ]
    },
    "executionInfo": {
     "elapsed": 94672,
     "status": "ok",
     "timestamp": 1642456315139,
     "user": {
      "displayName": "María Ajenjo Bauzá",
      "photoUrl": "https://lh3.googleusercontent.com/a/default-user=s64",
      "userId": "02845135186592420885"
     },
     "user_tz": -60
    },
    "id": "7WSn9bAvdOdm",
    "outputId": "ad899a45-a92f-40b7-83e2-c44fd2e2b5e5"
   },
   "outputs": [
    {
     "data": {
      "application/vnd.jupyter.widget-view+json": {
       "model_id": "d15ca55ff19e421694183d5d14e044a4",
       "version_major": 2,
       "version_minor": 0
      },
      "text/plain": [
       "  0%|          | 0/1000 [00:00<?, ?it/s]"
      ]
     },
     "metadata": {},
     "output_type": "display_data"
    }
   ],
   "source": [
    "random.seed(1)\n",
    "results = []\n",
    "for i in tq.tqdm(range(1000)):\n",
    "    r = play_game((3,3))\n",
    "    results.append(r)"
   ]
  },
  {
   "cell_type": "code",
   "execution_count": 62,
   "metadata": {
    "colab": {
     "base_uri": "https://localhost:8080/"
    },
    "executionInfo": {
     "elapsed": 275,
     "status": "ok",
     "timestamp": 1642456343467,
     "user": {
      "displayName": "María Ajenjo Bauzá",
      "photoUrl": "https://lh3.googleusercontent.com/a/default-user=s64",
      "userId": "02845135186592420885"
     },
     "user_tz": -60
    },
    "id": "BLxlT3nWdlhf",
    "outputId": "ad85504d-efcd-45ab-e214-b3a9ce55c567"
   },
   "outputs": [
    {
     "data": {
      "text/plain": [
       "503"
      ]
     },
     "execution_count": 62,
     "metadata": {},
     "output_type": "execute_result"
    }
   ],
   "source": [
    "results.count(1)"
   ]
  },
  {
   "cell_type": "code",
   "execution_count": 63,
   "metadata": {
    "executionInfo": {
     "elapsed": 246,
     "status": "ok",
     "timestamp": 1642456344857,
     "user": {
      "displayName": "María Ajenjo Bauzá",
      "photoUrl": "https://lh3.googleusercontent.com/a/default-user=s64",
      "userId": "02845135186592420885"
     },
     "user_tz": -60
    },
    "id": "pHh4FxmPw-_Z"
   },
   "outputs": [
    {
     "data": {
      "text/plain": [
       "{1: 503, 2: 376, -1: 121}"
      ]
     },
     "execution_count": 63,
     "metadata": {},
     "output_type": "execute_result"
    }
   ],
   "source": [
    "from collections import Counter\n",
    "winner_counts = Counter(results)\n",
    "winner_counts = dict(winner_counts)\n",
    "winner_counts"
   ]
  },
  {
   "cell_type": "code",
   "execution_count": 64,
   "metadata": {
    "colab": {
     "base_uri": "https://localhost:8080/",
     "height": 248
    },
    "executionInfo": {
     "elapsed": 378,
     "status": "ok",
     "timestamp": 1642456346099,
     "user": {
      "displayName": "María Ajenjo Bauzá",
      "photoUrl": "https://lh3.googleusercontent.com/a/default-user=s64",
      "userId": "02845135186592420885"
     },
     "user_tz": -60
    },
    "id": "KpxNSt7ZxnEr",
    "outputId": "53cf7310-7e8e-437e-a234-e8a4875e8aaa"
   },
   "outputs": [
    {
     "data": {
      "image/png": "[encoded data removed]",
      "text/plain": [
       "<Figure size 432x288 with 1 Axes>"
      ]
     },
     "metadata": {},
     "output_type": "display_data"
    }
   ],
   "source": [
    "import matplotlib.pyplot as plt\n",
    "plt.pie(winner_counts.values(), labels = winner_counts.keys(),autopct='%1.1f%%')\n",
    "plt.legend()\n",
    "plt.show()"
   ]
  },
  {
   "cell_type": "markdown",
   "metadata": {
    "id": "HA3-QkBgBahC"
   },
   "source": [
    "#### Exercise 11\n",
    "\n",
    "In the previous exercise, we see that when guessing at random, it's better to go first, as expected. Let's see if Player 1 can improve their strategy. \n",
    "\n",
    "#### Instructions \n",
    "- Create a function `play_strategic_game()`, where Player 1 always starts with the middle square, and otherwise both players place their markers randomly.\n",
    "- Call `play_strategic_game` 1000 times."
   ]
  },
  {
   "cell_type": "code",
   "execution_count": 59,
   "metadata": {
    "id": "NhiqvZ_jBahD"
   },
   "outputs": [],
   "source": [
    "random.seed(1)\n",
    "\n",
    "# write your code here\n",
    "def play_strategic_game(dim):\n",
    "    \"\"\"\n",
    "    Arguments:\n",
    "    -----------\n",
    "    dim : tuple\n",
    "    dimensions of the board\n",
    "    \"\"\"\n",
    "    board = create_board(dim)\n",
    "    board = place(board, player=1, position=(1,1))\n",
    "    evaluation = evaluate(board)\n",
    "    while evaluation == 0:\n",
    "        for player in [1,2]:\n",
    "            random_place(board, player)\n",
    "            evaluation = evaluate(board)\n",
    "    return evaluation"
   ]
  },
  {
   "cell_type": "code",
   "execution_count": 65,
   "metadata": {},
   "outputs": [
    {
     "data": {
      "application/vnd.jupyter.widget-view+json": {
       "model_id": "5ea1507e80814009b44944b4786be478",
       "version_major": 2,
       "version_minor": 0
      },
      "text/plain": [
       "  0%|          | 0/1000 [00:00<?, ?it/s]"
      ]
     },
     "metadata": {},
     "output_type": "display_data"
    },
    {
     "data": {
      "image/png": "[encoded data removed]",
      "text/plain": [
       "<Figure size 432x288 with 1 Axes>"
      ]
     },
     "metadata": {},
     "output_type": "display_data"
    }
   ],
   "source": [
    "random.seed(1)\n",
    "results_improved = []\n",
    "for i in tq.tqdm(range(1000)):\n",
    "    r = play_strategic_game((3,3))\n",
    "    results_improved.append(r)\n",
    "\n",
    "winner_counts_improved = Counter(results_improved)\n",
    "winner_counts_improved = dict(winner_counts_improved)\n",
    "plt.pie(winner_counts_improved.values(), labels = winner_counts_improved.keys(),autopct='%1.1f%%')\n",
    "plt.legend()\n",
    "plt.show()"
   ]
  }
 ],
 "metadata": {
  "colab": {
   "name": "Homework_week2.ipynb",
   "provenance": []
  },
  "kernelspec": {
   "display_name": "Python 3",
   "language": "python",
   "name": "python3"
  },
  "language_info": {
   "codemirror_mode": {
    "name": "ipython",
    "version": 3
   },
   "file_extension": ".py",
   "mimetype": "text/x-python",
   "name": "python",
   "nbconvert_exporter": "python",
   "pygments_lexer": "ipython3",
   "version": "3.8.10"
  },
  "widgets": {
   "application/vnd.jupyter.widget-state+json": {
    "3ace9d8fa3c444c59da915b580c9af72": {
     "model_module": "@jupyter-widgets/base",
     "model_module_version": "1.2.0",
     "model_name": "LayoutModel",
     "state": {
      "_model_module": "@jupyter-widgets/base",
      "_model_module_version": "1.2.0",
      "_model_name": "LayoutModel",
      "_view_count": null,
      "_view_module": "@jupyter-widgets/base",
      "_view_module_version": "1.2.0",
      "_view_name": "LayoutView",
      "align_content": null,
      "align_items": null,
      "align_self": null,
      "border": null,
      "bottom": null,
      "display": null,
      "flex": null,
      "flex_flow": null,
      "grid_area": null,
      "grid_auto_columns": null,
      "grid_auto_flow": null,
      "grid_auto_rows": null,
      "grid_column": null,
      "grid_gap": null,
      "grid_row": null,
      "grid_template_areas": null,
      "grid_template_columns": null,
      "grid_template_rows": null,
      "height": null,
      "justify_content": null,
      "justify_items": null,
      "left": null,
      "margin": null,
      "max_height": null,
      "max_width": null,
      "min_height": null,
      "min_width": null,
      "object_fit": null,
      "object_position": null,
      "order": null,
      "overflow": null,
      "overflow_x": null,
      "overflow_y": null,
      "padding": null,
      "right": null,
      "top": null,
      "visibility": null,
      "width": null
     }
    },
    "3f3be4857a874dcf84d34444f2ff8450": {
     "model_module": "@jupyter-widgets/controls",
     "model_module_version": "1.5.0",
     "model_name": "HTMLModel",
     "state": {
      "_dom_classes": [],
      "_model_module": "@jupyter-widgets/controls",
      "_model_module_version": "1.5.0",
      "_model_name": "HTMLModel",
      "_view_count": null,
      "_view_module": "@jupyter-widgets/controls",
      "_view_module_version": "1.5.0",
      "_view_name": "HTMLView",
      "description": "",
      "description_tooltip": null,
      "layout": "IPY_MODEL_421c3fa76ba34f8394cb5a2e41b1bdfc",
      "placeholder": "​",
      "style": "IPY_MODEL_f05c24c61edc474a86bc4ed7eb711105",
      "value": " 100000/100000 [01:34&lt;00:00, 1059.23it/s]"
     }
    },
    "421c3fa76ba34f8394cb5a2e41b1bdfc": {
     "model_module": "@jupyter-widgets/base",
     "model_module_version": "1.2.0",
     "model_name": "LayoutModel",
     "state": {
      "_model_module": "@jupyter-widgets/base",
      "_model_module_version": "1.2.0",
      "_model_name": "LayoutModel",
      "_view_count": null,
      "_view_module": "@jupyter-widgets/base",
      "_view_module_version": "1.2.0",
      "_view_name": "LayoutView",
      "align_content": null,
      "align_items": null,
      "align_self": null,
      "border": null,
      "bottom": null,
      "display": null,
      "flex": null,
      "flex_flow": null,
      "grid_area": null,
      "grid_auto_columns": null,
      "grid_auto_flow": null,
      "grid_auto_rows": null,
      "grid_column": null,
      "grid_gap": null,
      "grid_row": null,
      "grid_template_areas": null,
      "grid_template_columns": null,
      "grid_template_rows": null,
      "height": null,
      "justify_content": null,
      "justify_items": null,
      "left": null,
      "margin": null,
      "max_height": null,
      "max_width": null,
      "min_height": null,
      "min_width": null,
      "object_fit": null,
      "object_position": null,
      "order": null,
      "overflow": null,
      "overflow_x": null,
      "overflow_y": null,
      "padding": null,
      "right": null,
      "top": null,
      "visibility": null,
      "width": null
     }
    },
    "a3ce371ab8db467c91cd41092510b12e": {
     "model_module": "@jupyter-widgets/controls",
     "model_module_version": "1.5.0",
     "model_name": "FloatProgressModel",
     "state": {
      "_dom_classes": [],
      "_model_module": "@jupyter-widgets/controls",
      "_model_module_version": "1.5.0",
      "_model_name": "FloatProgressModel",
      "_view_count": null,
      "_view_module": "@jupyter-widgets/controls",
      "_view_module_version": "1.5.0",
      "_view_name": "ProgressView",
      "bar_style": "success",
      "description": "",
      "description_tooltip": null,
      "layout": "IPY_MODEL_db81613be7f64510b7c013c2944f2dec",
      "max": 100000,
      "min": 0,
      "orientation": "horizontal",
      "style": "IPY_MODEL_ede3042c5ac84e8a92d70f76a7acd951",
      "value": 100000
     }
    },
    "a7ff2d56264049ce96659ed40eccad39": {
     "model_module": "@jupyter-widgets/base",
     "model_module_version": "1.2.0",
     "model_name": "LayoutModel",
     "state": {
      "_model_module": "@jupyter-widgets/base",
      "_model_module_version": "1.2.0",
      "_model_name": "LayoutModel",
      "_view_count": null,
      "_view_module": "@jupyter-widgets/base",
      "_view_module_version": "1.2.0",
      "_view_name": "LayoutView",
      "align_content": null,
      "align_items": null,
      "align_self": null,
      "border": null,
      "bottom": null,
      "display": null,
      "flex": null,
      "flex_flow": null,
      "grid_area": null,
      "grid_auto_columns": null,
      "grid_auto_flow": null,
      "grid_auto_rows": null,
      "grid_column": null,
      "grid_gap": null,
      "grid_row": null,
      "grid_template_areas": null,
      "grid_template_columns": null,
      "grid_template_rows": null,
      "height": null,
      "justify_content": null,
      "justify_items": null,
      "left": null,
      "margin": null,
      "max_height": null,
      "max_width": null,
      "min_height": null,
      "min_width": null,
      "object_fit": null,
      "object_position": null,
      "order": null,
      "overflow": null,
      "overflow_x": null,
      "overflow_y": null,
      "padding": null,
      "right": null,
      "top": null,
      "visibility": null,
      "width": null
     }
    },
    "b2ab3495a58e4e80a4a95e3ca6f9c040": {
     "model_module": "@jupyter-widgets/controls",
     "model_module_version": "1.5.0",
     "model_name": "HBoxModel",
     "state": {
      "_dom_classes": [],
      "_model_module": "@jupyter-widgets/controls",
      "_model_module_version": "1.5.0",
      "_model_name": "HBoxModel",
      "_view_count": null,
      "_view_module": "@jupyter-widgets/controls",
      "_view_module_version": "1.5.0",
      "_view_name": "HBoxView",
      "box_style": "",
      "children": [
       "IPY_MODEL_cccb7175537b495b968049df51c33991",
       "IPY_MODEL_a3ce371ab8db467c91cd41092510b12e",
       "IPY_MODEL_3f3be4857a874dcf84d34444f2ff8450"
      ],
      "layout": "IPY_MODEL_a7ff2d56264049ce96659ed40eccad39"
     }
    },
    "cccb7175537b495b968049df51c33991": {
     "model_module": "@jupyter-widgets/controls",
     "model_module_version": "1.5.0",
     "model_name": "HTMLModel",
     "state": {
      "_dom_classes": [],
      "_model_module": "@jupyter-widgets/controls",
      "_model_module_version": "1.5.0",
      "_model_name": "HTMLModel",
      "_view_count": null,
      "_view_module": "@jupyter-widgets/controls",
      "_view_module_version": "1.5.0",
      "_view_name": "HTMLView",
      "description": "",
      "description_tooltip": null,
      "layout": "IPY_MODEL_3ace9d8fa3c444c59da915b580c9af72",
      "placeholder": "​",
      "style": "IPY_MODEL_d4f8469e0b4c4847b2e100a2e32d7f98",
      "value": "100%"
     }
    },
    "d4f8469e0b4c4847b2e100a2e32d7f98": {
     "model_module": "@jupyter-widgets/controls",
     "model_module_version": "1.5.0",
     "model_name": "DescriptionStyleModel",
     "state": {
      "_model_module": "@jupyter-widgets/controls",
      "_model_module_version": "1.5.0",
      "_model_name": "DescriptionStyleModel",
      "_view_count": null,
      "_view_module": "@jupyter-widgets/base",
      "_view_module_version": "1.2.0",
      "_view_name": "StyleView",
      "description_width": ""
     }
    },
    "db81613be7f64510b7c013c2944f2dec": {
     "model_module": "@jupyter-widgets/base",
     "model_module_version": "1.2.0",
     "model_name": "LayoutModel",
     "state": {
      "_model_module": "@jupyter-widgets/base",
      "_model_module_version": "1.2.0",
      "_model_name": "LayoutModel",
      "_view_count": null,
      "_view_module": "@jupyter-widgets/base",
      "_view_module_version": "1.2.0",
      "_view_name": "LayoutView",
      "align_content": null,
      "align_items": null,
      "align_self": null,
      "border": null,
      "bottom": null,
      "display": null,
      "flex": null,
      "flex_flow": null,
      "grid_area": null,
      "grid_auto_columns": null,
      "grid_auto_flow": null,
      "grid_auto_rows": null,
      "grid_column": null,
      "grid_gap": null,
      "grid_row": null,
      "grid_template_areas": null,
      "grid_template_columns": null,
      "grid_template_rows": null,
      "height": null,
      "justify_content": null,
      "justify_items": null,
      "left": null,
      "margin": null,
      "max_height": null,
      "max_width": null,
      "min_height": null,
      "min_width": null,
      "object_fit": null,
      "object_position": null,
      "order": null,
      "overflow": null,
      "overflow_x": null,
      "overflow_y": null,
      "padding": null,
      "right": null,
      "top": null,
      "visibility": null,
      "width": null
     }
    },
    "ede3042c5ac84e8a92d70f76a7acd951": {
     "model_module": "@jupyter-widgets/controls",
     "model_module_version": "1.5.0",
     "model_name": "ProgressStyleModel",
     "state": {
      "_model_module": "@jupyter-widgets/controls",
      "_model_module_version": "1.5.0",
      "_model_name": "ProgressStyleModel",
      "_view_count": null,
      "_view_module": "@jupyter-widgets/base",
      "_view_module_version": "1.2.0",
      "_view_name": "StyleView",
      "bar_color": null,
      "description_width": ""
     }
    },
    "f05c24c61edc474a86bc4ed7eb711105": {
     "model_module": "@jupyter-widgets/controls",
     "model_module_version": "1.5.0",
     "model_name": "DescriptionStyleModel",
     "state": {
      "_model_module": "@jupyter-widgets/controls",
      "_model_module_version": "1.5.0",
      "_model_name": "DescriptionStyleModel",
      "_view_count": null,
      "_view_module": "@jupyter-widgets/base",
      "_view_module_version": "1.2.0",
      "_view_name": "StyleView",
      "description_width": ""
     }
    }
   }
  }
 },
 "nbformat": 4,
 "nbformat_minor": 4
}
