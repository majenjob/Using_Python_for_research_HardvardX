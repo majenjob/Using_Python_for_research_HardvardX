{
  "nbformat": 4,
  "nbformat_minor": 0,
  "metadata": {
    "kernelspec": {
      "display_name": "Python 3",
      "language": "python",
      "name": "python3"
    },
    "language_info": {
      "codemirror_mode": {
        "name": "ipython",
        "version": 3
      },
      "file_extension": ".py",
      "mimetype": "text/x-python",
      "name": "python",
      "nbconvert_exporter": "python",
      "pygments_lexer": "ipython3",
      "version": "3.7.3"
    },
    "colab": {
      "name": "Homework_week1.ipynb",
      "provenance": []
    }
  },
  "cells": [
    {
      "cell_type": "markdown",
      "metadata": {
        "id": "BwEkBRW1HClW"
      },
      "source": [
        "# Using Python for Research Homework: Week 1\n",
        "\n",
        "In this homework, we will use objects, functions, and randomness to find the length of documents, approximate $\\pi$, and smooth out random noise."
      ]
    },
    {
      "cell_type": "markdown",
      "source": [
        "Exercises done by: María Ajenjo Bauzá"
      ],
      "metadata": {
        "id": "2OrhDOCMQrX-"
      }
    },
    {
      "cell_type": "markdown",
      "metadata": {
        "id": "OqffPuf7HCla"
      },
      "source": [
        "### Exercise 1\n",
        "\n",
        "In this five-part exercise, we will count the frequency of each letter in a given string.\n",
        "\n",
        "#### Exercise 1a\n",
        "\n",
        "- Import the `string` library.\n",
        "- Create a variable `alphabet` that consists of the lowercase and uppercase letters in the English alphabet using the `ascii_letters` data attribute of the `string` library."
      ]
    },
    {
      "cell_type": "code",
      "metadata": {
        "colab": {
          "base_uri": "https://localhost:8080/",
          "height": 35
        },
        "id": "jg4uojd-HCla",
        "outputId": "ae707c02-3bac-48b9-8bb4-a78b35829b43"
      },
      "source": [
        "# write your code here!\n",
        "import string\n",
        "alphabet = string.ascii_letters\n",
        "alphabet"
      ],
      "execution_count": null,
      "outputs": [
        {
          "output_type": "execute_result",
          "data": {
            "application/vnd.google.colaboratory.intrinsic+json": {
              "type": "string"
            },
            "text/plain": [
              "'abcdefghijklmnopqrstuvwxyzABCDEFGHIJKLMNOPQRSTUVWXYZ'"
            ]
          },
          "metadata": {},
          "execution_count": 2
        }
      ]
    },
    {
      "cell_type": "markdown",
      "metadata": {
        "id": "lDwG22FJHClb"
      },
      "source": [
        "#### Exercise 1b\n",
        "- The lower and upper case letters of the English alphabet should stored as the string variable `alphabet`.\n",
        "- Consider the sentence 'Jim quickly realized that the beautiful gowns are expensive'. Create a dictionary `count_letters` with keys consisting of each unique letter in the sentence and values consisting of the number of times each letter is used in this sentence. Count upper case and lower case letters separately in the dictionary."
      ]
    },
    {
      "cell_type": "code",
      "metadata": {
        "colab": {
          "base_uri": "https://localhost:8080/",
          "height": 217
        },
        "id": "CJ5Pl8SfKdDe",
        "outputId": "e97f9d4b-4256-48a9-b35a-86ec256527a5"
      },
      "source": [
        "sentence = 'Jim quickly realized that the beautiful gowns are expensive'\n",
        "sentence.ascii_letters()"
      ],
      "execution_count": null,
      "outputs": [
        {
          "output_type": "error",
          "ename": "AttributeError",
          "evalue": "ignored",
          "traceback": [
            "\u001b[0;31m---------------------------------------------------------------------------\u001b[0m",
            "\u001b[0;31mAttributeError\u001b[0m                            Traceback (most recent call last)",
            "\u001b[0;32m<ipython-input-11-4cf54ebd9a03>\u001b[0m in \u001b[0;36m<module>\u001b[0;34m()\u001b[0m\n\u001b[1;32m      1\u001b[0m \u001b[0msentence\u001b[0m \u001b[0;34m=\u001b[0m \u001b[0;34m'Jim quickly realized that the beautiful gowns are expensive'\u001b[0m\u001b[0;34m\u001b[0m\u001b[0;34m\u001b[0m\u001b[0m\n\u001b[0;32m----> 2\u001b[0;31m sentence.ascii_letters(\n\u001b[0m\u001b[1;32m      3\u001b[0m \u001b[0;34m\u001b[0m\u001b[0m\n\u001b[1;32m      4\u001b[0m )\n",
            "\u001b[0;31mAttributeError\u001b[0m: 'str' object has no attribute 'ascii_letters'"
          ]
        }
      ]
    },
    {
      "cell_type": "code",
      "metadata": {
        "colab": {
          "base_uri": "https://localhost:8080/"
        },
        "id": "l0kjlIpZK9FN",
        "outputId": "f7e377c5-bdeb-4f29-92ed-fe8ec2c484b8"
      },
      "source": [
        "\" \" in string.ascii_letters"
      ],
      "execution_count": null,
      "outputs": [
        {
          "output_type": "execute_result",
          "data": {
            "text/plain": [
              "False"
            ]
          },
          "metadata": {},
          "execution_count": 17
        }
      ]
    },
    {
      "cell_type": "code",
      "metadata": {
        "colab": {
          "base_uri": "https://localhost:8080/"
        },
        "id": "XIvr-fyGHClc",
        "outputId": "4a8a6ee4-8a6d-4df6-b9aa-51d59a0d639d"
      },
      "source": [
        "sentence = 'Jim quickly realized that the beautiful gowns are expensive'\n",
        "\n",
        "count_letters = {}\n",
        "# write your code here!\n",
        "for letter in sentence:\n",
        "  if letter in string.ascii_letters:\n",
        "    if letter not in count_letters.keys():\n",
        "      count_letters[letter] = 1\n",
        "    else:\n",
        "      count_letters[letter] += 1\n",
        "count_letters"
      ],
      "execution_count": null,
      "outputs": [
        {
          "output_type": "execute_result",
          "data": {
            "text/plain": [
              "{'J': 1,\n",
              " 'a': 4,\n",
              " 'b': 1,\n",
              " 'c': 1,\n",
              " 'd': 1,\n",
              " 'e': 8,\n",
              " 'f': 1,\n",
              " 'g': 1,\n",
              " 'h': 2,\n",
              " 'i': 5,\n",
              " 'k': 1,\n",
              " 'l': 3,\n",
              " 'm': 1,\n",
              " 'n': 2,\n",
              " 'o': 1,\n",
              " 'p': 1,\n",
              " 'q': 1,\n",
              " 'r': 2,\n",
              " 's': 2,\n",
              " 't': 4,\n",
              " 'u': 3,\n",
              " 'v': 1,\n",
              " 'w': 1,\n",
              " 'x': 1,\n",
              " 'y': 1,\n",
              " 'z': 1}"
            ]
          },
          "metadata": {},
          "execution_count": 20
        }
      ]
    },
    {
      "cell_type": "markdown",
      "metadata": {
        "id": "aH76OsopHClc"
      },
      "source": [
        "#### Exercise 1c\n",
        "- Rewrite your code from 1b to make a function called `counter` that takes a string `input_string` and returns a dictionary of letter counts `count_letters`.\n",
        "- Use your function to call `counter(sentence)`."
      ]
    },
    {
      "cell_type": "code",
      "metadata": {
        "id": "XiFsWCTiHClc"
      },
      "source": [
        "# write your code here!\n",
        "def counter(input_string):\n",
        "  count_letters = {}\n",
        "  for letter in input_string:\n",
        "    if letter in string.ascii_letters:\n",
        "      if letter not in count_letters.keys():\n",
        "        count_letters[letter] = 1\n",
        "      else:\n",
        "        count_letters[letter] += 1\n",
        "  return count_letters"
      ],
      "execution_count": null,
      "outputs": []
    },
    {
      "cell_type": "code",
      "metadata": {
        "colab": {
          "base_uri": "https://localhost:8080/"
        },
        "id": "iKx9m0UdJhA9",
        "outputId": "e2c697ed-2b9f-4950-b757-2607f452e10a"
      },
      "source": [
        "counter(sentence)"
      ],
      "execution_count": null,
      "outputs": [
        {
          "output_type": "execute_result",
          "data": {
            "text/plain": [
              "{'J': 1,\n",
              " 'a': 4,\n",
              " 'b': 1,\n",
              " 'c': 1,\n",
              " 'd': 1,\n",
              " 'e': 8,\n",
              " 'f': 1,\n",
              " 'g': 1,\n",
              " 'h': 2,\n",
              " 'i': 5,\n",
              " 'k': 1,\n",
              " 'l': 3,\n",
              " 'm': 1,\n",
              " 'n': 2,\n",
              " 'o': 1,\n",
              " 'p': 1,\n",
              " 'q': 1,\n",
              " 'r': 2,\n",
              " 's': 2,\n",
              " 't': 4,\n",
              " 'u': 3,\n",
              " 'v': 1,\n",
              " 'w': 1,\n",
              " 'x': 1,\n",
              " 'y': 1,\n",
              " 'z': 1}"
            ]
          },
          "metadata": {},
          "execution_count": 24
        }
      ]
    },
    {
      "cell_type": "markdown",
      "metadata": {
        "id": "78AXDeejHCld"
      },
      "source": [
        "#### Exercise 1d\n",
        "- Abraham Lincoln was a president during the American Civil War. His famous 1863 Gettysburg Address has been stored as `address`. Use the `counter` function from 1c to return a dictionary consisting of the count of each letter in this address and save it as `address_count`."
      ]
    },
    {
      "cell_type": "code",
      "metadata": {
        "colab": {
          "base_uri": "https://localhost:8080/"
        },
        "id": "65puYXEUHCle",
        "outputId": "65604358-5e35-4c30-becd-80bde02f8f0d"
      },
      "source": [
        "address = \"\"\"Four score and seven years ago our fathers brought forth on this continent, a new nation, \n",
        "conceived in Liberty, and dedicated to the proposition that all men are created equal. Now we are engaged in a \n",
        "great civil war, testing whether that nation, or any nation so conceived and so dedicated, can long endure. \n",
        "We are met on a great battle-field of that war. We have come to dedicate a portion of that field, as a final \n",
        "resting place for those who here gave their lives that that nation might live. It is altogether fitting and proper \n",
        "that we should do this. But, in a larger sense, we can not dedicate -- we can not consecrate -- we can not hallow -- \n",
        "this ground. The brave men, living and dead, who struggled here, have consecrated it, far above our poor power to add \n",
        "or detract. The world will little note, nor long remember what we say here, but it can never forget what they did here. \n",
        "It is for us the living, rather, to be dedicated here to the unfinished work which they who fought here have thus far so \n",
        "nobly advanced. It is rather for us to be here dedicated to the great task remaining before us -- that from these honored \n",
        "dead we take increased devotion to that cause for which they gave the last full measure of devotion -- that we here \n",
        "highly resolve that these dead shall not have died in vain -- that this nation, under God, shall have a new birth of \n",
        "freedom -- and that government of the people, by the people, for the people, shall not perish from the earth.\"\"\"   \n",
        "\n",
        "# Write your code here!\n",
        "counter(address)"
      ],
      "execution_count": null,
      "outputs": [
        {
          "output_type": "execute_result",
          "data": {
            "text/plain": [
              "{'B': 1,\n",
              " 'F': 1,\n",
              " 'G': 1,\n",
              " 'I': 3,\n",
              " 'L': 1,\n",
              " 'N': 1,\n",
              " 'T': 2,\n",
              " 'W': 2,\n",
              " 'a': 102,\n",
              " 'b': 13,\n",
              " 'c': 31,\n",
              " 'd': 58,\n",
              " 'e': 165,\n",
              " 'f': 26,\n",
              " 'g': 27,\n",
              " 'h': 80,\n",
              " 'i': 65,\n",
              " 'k': 3,\n",
              " 'l': 41,\n",
              " 'm': 13,\n",
              " 'n': 76,\n",
              " 'o': 93,\n",
              " 'p': 15,\n",
              " 'q': 1,\n",
              " 'r': 79,\n",
              " 's': 44,\n",
              " 't': 124,\n",
              " 'u': 21,\n",
              " 'v': 24,\n",
              " 'w': 26,\n",
              " 'y': 10}"
            ]
          },
          "metadata": {},
          "execution_count": 25
        }
      ]
    },
    {
      "cell_type": "markdown",
      "metadata": {
        "id": "hEuHRQyPHCle"
      },
      "source": [
        "#### Exercise 1e\n",
        "- The frequency of each letter in the Gettysburg Address is already stored as `address_count`. Use this dictionary to find the most common letter in the Gettysburg address."
      ]
    },
    {
      "cell_type": "code",
      "metadata": {
        "colab": {
          "base_uri": "https://localhost:8080/",
          "height": 35
        },
        "id": "1skuCg-8HClf",
        "outputId": "74226c40-d149-411b-dc7c-63219c00dbb0"
      },
      "source": [
        "# write your code here!\n",
        "dic = counter(address)\n",
        "max(dic, key=dic.get)"
      ],
      "execution_count": null,
      "outputs": [
        {
          "output_type": "execute_result",
          "data": {
            "application/vnd.google.colaboratory.intrinsic+json": {
              "type": "string"
            },
            "text/plain": [
              "'e'"
            ]
          },
          "metadata": {},
          "execution_count": 31
        }
      ]
    },
    {
      "cell_type": "markdown",
      "metadata": {
        "id": "9WucMA-5HClf"
      },
      "source": [
        "### Exercise 2\n",
        "\n",
        "Consider a circle inscribed in a square. The ratio of their areas (the ratio of the area of the circle to the area of the square) is $\\frac{\\pi}{4}$. In this six-part exercise, we will find a way to approximate this value.\n",
        "\n",
        "#### Exercise 2a\n",
        "- Using the `math` library, calculate and print the value of $\\frac{\\pi}{4}$"
      ]
    },
    {
      "cell_type": "code",
      "metadata": {
        "colab": {
          "base_uri": "https://localhost:8080/"
        },
        "id": "W5D6M1L-HClf",
        "outputId": "6e59e4d9-9ae0-40e1-f5a5-23b6bbb130b0"
      },
      "source": [
        "# write your code here\n",
        "import math\n",
        "math.pi/4"
      ],
      "execution_count": null,
      "outputs": [
        {
          "output_type": "execute_result",
          "data": {
            "text/plain": [
              "0.7853981633974483"
            ]
          },
          "metadata": {},
          "execution_count": 32
        }
      ]
    },
    {
      "cell_type": "markdown",
      "metadata": {
        "id": "ssvqPn0SHClf"
      },
      "source": [
        "#### Exercise 2b\n",
        "- Using `random.uniform()`, create a function `rand()` that generates a single float between $-1$ and $1$.\n",
        "- Call `rand()` once. For us to be able to check your solution, we will use `random.seed()` to fix the seed value of the random number generator."
      ]
    },
    {
      "cell_type": "code",
      "metadata": {
        "colab": {
          "base_uri": "https://localhost:8080/"
        },
        "id": "rce8cBooHClg",
        "outputId": "f3571592-4500-4b68-94c4-6a7c970dec0b"
      },
      "source": [
        "import random\n",
        "\n",
        "random.seed(1) # Fixes the see of the random number generator.\n",
        "\n",
        "def rand():\n",
        "  return random.uniform(-1,1)\n",
        "\n",
        "rand()"
      ],
      "execution_count": null,
      "outputs": [
        {
          "output_type": "execute_result",
          "data": {
            "text/plain": [
              "-0.7312715117751976"
            ]
          },
          "metadata": {},
          "execution_count": 38
        }
      ]
    },
    {
      "cell_type": "markdown",
      "metadata": {
        "id": "lLUeOkucHClg"
      },
      "source": [
        "#### Exercise 2c\n",
        "- The distance between two points x and y is the square root of the sum of squared differences along each dimension of x and y. Write a function` distance(x, y)` that takes two vectors as its input and outputs the distance between them. Use your function to find the distance between $x=(0,0)$ and $y=(1,1)$."
      ]
    },
    {
      "cell_type": "code",
      "metadata": {
        "id": "FsCE1jvSKhOS"
      },
      "source": [
        "import math"
      ],
      "execution_count": null,
      "outputs": []
    },
    {
      "cell_type": "code",
      "metadata": {
        "id": "n6Pd5mtWHClg"
      },
      "source": [
        "def distance(x, y):\n",
        "  x1,y1 = x\n",
        "  x2,y2 = y\n",
        "  d = ((x2 -x1)**2 + (y2 -y1)**2)**0.5\n",
        "  return d"
      ],
      "execution_count": null,
      "outputs": []
    },
    {
      "cell_type": "code",
      "metadata": {
        "colab": {
          "base_uri": "https://localhost:8080/"
        },
        "id": "80N5TM7ULJPN",
        "outputId": "433d52d3-e2ab-4d22-f351-043ebdb91268"
      },
      "source": [
        "distance((0,0),(1,1))"
      ],
      "execution_count": null,
      "outputs": [
        {
          "output_type": "execute_result",
          "data": {
            "text/plain": [
              "1.4142135623730951"
            ]
          },
          "metadata": {},
          "execution_count": 3
        }
      ]
    },
    {
      "cell_type": "markdown",
      "metadata": {
        "id": "8x7u-TAmHClg"
      },
      "source": [
        "#### Exercise 2d\n",
        "\n",
        "- Write a function `in_circle(x, origin)` that determines whether a point in a two dimensional plane falls within a unit circle surrounding a given origin.\n",
        "    - Your function should return a boolean `True` if the distance between `x` and `origin` is less than 1 and `False` otherwise.\n",
        "    - Use `distance(x, y)` as defined in 2c.\n",
        "- Use your function to determine whether the point (1,1) lies within the unit circle centered at (0,0)."
      ]
    },
    {
      "cell_type": "code",
      "metadata": {
        "id": "A7AXqZmZHClh"
      },
      "source": [
        "def in_circle(x, origin = [0,0]):\n",
        "  o = (origin[0],origin[1])\n",
        "  d = distance(x,o)\n",
        "  if d < 1:\n",
        "    return True\n",
        "  else:\n",
        "    return False"
      ],
      "execution_count": null,
      "outputs": []
    },
    {
      "cell_type": "code",
      "metadata": {
        "colab": {
          "base_uri": "https://localhost:8080/"
        },
        "id": "IFo44mDYNAuj",
        "outputId": "fed81118-833d-4b4d-e014-40b0f533bab8"
      },
      "source": [
        "in_circle((1,1))"
      ],
      "execution_count": null,
      "outputs": [
        {
          "output_type": "execute_result",
          "data": {
            "text/plain": [
              "False"
            ]
          },
          "metadata": {},
          "execution_count": 5
        }
      ]
    },
    {
      "cell_type": "markdown",
      "metadata": {
        "id": "r52qmaANHClh"
      },
      "source": [
        "#### Exercise 2e\n",
        "\n",
        "- Create a list `inside` of `R=10000` booleans that determines whether or not a point falls within the unit circle centered at `(0,0)`. \n",
        "    - Use the `rand` function from 2b to generate `R` randomly located points.\n",
        "    - Use the function `in_circle` to test whether or not a given pint falls within the unit circle.\n",
        "- Find the proportion of points that fall within the circle by summing all `True` values in the `inside` list; then divide the answer by `R` to obtain a proportion.\n",
        "- Print your answer. This proportion is an estimate of the ratio of the two areas!"
      ]
    },
    {
      "cell_type": "code",
      "metadata": {
        "id": "ohmwM1KBHClh"
      },
      "source": [
        "import random\n",
        "random.seed(1) \n",
        "R = 10000\n",
        "# write your code here!\n",
        "inside = random.choices(['True','False'],k=R)\n",
        "\n",
        "def rand():\n",
        "  return random.uniform(-1,1)\n",
        "points = [(rand(),rand()) for i in range(R)]\n",
        "list_bool = []\n",
        "for point in points:\n",
        "  list_bool.append(in_circle(point))"
      ],
      "execution_count": null,
      "outputs": []
    },
    {
      "cell_type": "code",
      "metadata": {
        "colab": {
          "base_uri": "https://localhost:8080/"
        },
        "id": "sun6g3LPQg4S",
        "outputId": "21bbbae9-955d-44bb-a4d1-29415ab1dd09"
      },
      "source": [
        "d = {x:list_bool.count(x) for x in list_bool}\n",
        "d"
      ],
      "execution_count": null,
      "outputs": [
        {
          "output_type": "execute_result",
          "data": {
            "text/plain": [
              "{False: 2204, True: 7796}"
            ]
          },
          "metadata": {},
          "execution_count": 7
        }
      ]
    },
    {
      "cell_type": "code",
      "metadata": {
        "colab": {
          "base_uri": "https://localhost:8080/"
        },
        "id": "7VHPedLLS7sL",
        "outputId": "60ca6b06-0d79-408a-a8eb-643682698f22"
      },
      "source": [
        "estimate = d[1]/R\n",
        "estimate"
      ],
      "execution_count": null,
      "outputs": [
        {
          "output_type": "execute_result",
          "data": {
            "text/plain": [
              "0.7796"
            ]
          },
          "metadata": {},
          "execution_count": 11
        }
      ]
    },
    {
      "cell_type": "markdown",
      "metadata": {
        "id": "Jj7FjP9PHClh"
      },
      "source": [
        "#### Exercise 2f\n",
        "\n",
        "- Find the difference between your estimate from part 2e and `math.pi / 4`. Note: `inside` and `R` are defined as in Exercise 2e."
      ]
    },
    {
      "cell_type": "code",
      "metadata": {
        "id": "h7TnDljBHClh",
        "colab": {
          "base_uri": "https://localhost:8080/"
        },
        "outputId": "81f92530-aa2a-4fea-a5f7-26a2173c020b"
      },
      "source": [
        "# write your code here!\n",
        "math.pi/4"
      ],
      "execution_count": null,
      "outputs": [
        {
          "output_type": "execute_result",
          "data": {
            "text/plain": [
              "0.7853981633974483"
            ]
          },
          "metadata": {},
          "execution_count": 13
        }
      ]
    },
    {
      "cell_type": "code",
      "source": [
        "estimate - (math.pi/4)"
      ],
      "metadata": {
        "colab": {
          "base_uri": "https://localhost:8080/"
        },
        "id": "fn-2a7Wfj47B",
        "outputId": "e624409b-07f3-4435-b911-01b3ec018ae5"
      },
      "execution_count": null,
      "outputs": [
        {
          "output_type": "execute_result",
          "data": {
            "text/plain": [
              "-0.005798163397448319"
            ]
          },
          "metadata": {},
          "execution_count": 16
        }
      ]
    },
    {
      "cell_type": "markdown",
      "metadata": {
        "id": "ELq4isLUHClh"
      },
      "source": [
        "### Exercise 3\n",
        "\n",
        "A list of numbers representing measurements obtained from a system of interest can often be noisy. One way to deal with noise to smoothen the values by replacing each value with the average of the value and the values of its neighbors.\n",
        "\n",
        "#### Exercise 3a\n",
        "\n",
        "- Write a function `moving_window_average(x, n_neighbors)` that takes a list `x` and the number of neighbors `n_neighbors` on either side of a given member of the list to consider.\n",
        "- For each value in `x`, `moving_window_average(x, n_neighbors)` computes the average of the value and the values of its neighbors.\n",
        "- `moving_window_average` should return a list of averaged values that is the same length as the original list.\n",
        "- If there are not enough neighbors (for cases near the edge), substitute the original value for a neighbor for each missing neighbor.\n",
        "- Use your function to find the moving window sum of `x=[0,10,5,3,1,5]` and `n_neighbors=1`."
      ]
    },
    {
      "cell_type": "code",
      "source": [
        "def moving_window_average(x, n_neighbors=1):\n",
        "    n = len(x)\n",
        "    width = n_neighbors*2 + 1\n",
        "    x = [x[0]]*n_neighbors + x + [x[-1]]*n_neighbors\n",
        "\n",
        "    # To complete the function,\n",
        "    # return a list of the mean of values from i to i+width for all values i from 0 to n-1.\n",
        "    # mean_list = []\n",
        "    # for i in range(n_neighbors,n+1):\n",
        "    #   wdw = [x[i-n_neighbors:i+n_neighbors+1]]\n",
        "    #   m = np.mean(wdw)\n",
        "    #   mean_list.append(m)\n",
        "    return(x)\n",
        "x = [0,10,5,3,1,5]\n",
        "print(moving_window_average(x, 5))"
      ],
      "metadata": {
        "colab": {
          "base_uri": "https://localhost:8080/"
        },
        "id": "7ooo6ERspRGM",
        "outputId": "26a13a44-cdeb-4f16-a1a6-5ebbe285c327"
      },
      "execution_count": null,
      "outputs": [
        {
          "output_type": "stream",
          "name": "stdout",
          "text": [
            "[0, 0, 0, 0, 0, 0, 10, 5, 3, 1, 5, 5, 5, 5, 5, 5]\n"
          ]
        }
      ]
    },
    {
      "cell_type": "code",
      "metadata": {
        "id": "RV9cyfj0HCli",
        "colab": {
          "base_uri": "https://localhost:8080/"
        },
        "outputId": "2030b1aa-3fa9-4994-94f7-66d1dc0fa1cd"
      },
      "source": [
        "import numpy as np\n",
        "def moving_window_average(x, n_neighbors=1):\n",
        "    n = len(x)\n",
        "    width = n_neighbors*2 + 1\n",
        "    x = [x[0]]*n_neighbors + x + [x[-1]]*n_neighbors\n",
        "\n",
        "    # To complete the function,\n",
        "    # return a list of the mean of values from i to i+width for all values i from 0 to n-1.\n",
        "    mean_list = []\n",
        "    for i in range(n_neighbors,n_neighbors+n):\n",
        "      wdw = [x[i-n_neighbors:i+n_neighbors+1]]\n",
        "      m = np.mean(wdw)\n",
        "      mean_list.append(m)\n",
        "    return(mean_list)\n",
        "x = [0,10,5,3,1,5]\n",
        "print(moving_window_average(x, 1))"
      ],
      "execution_count": null,
      "outputs": [
        {
          "output_type": "stream",
          "name": "stdout",
          "text": [
            "[3.3333333333333335, 5.0, 6.0, 3.0, 3.0, 3.6666666666666665]\n"
          ]
        }
      ]
    },
    {
      "cell_type": "code",
      "source": [
        "print(moving_window_average(x, 2))"
      ],
      "metadata": {
        "colab": {
          "base_uri": "https://localhost:8080/"
        },
        "id": "4jMmrIF7ozRF",
        "outputId": "feccb11f-97df-4ae4-8644-5b5d0adcfa16"
      },
      "execution_count": null,
      "outputs": [
        {
          "output_type": "stream",
          "name": "stdout",
          "text": [
            "[3.0, 3.6, 3.8, 4.8, 3.8, 3.8]\n"
          ]
        }
      ]
    },
    {
      "cell_type": "markdown",
      "metadata": {
        "id": "SF-0R82WHCli"
      },
      "source": [
        "#### Exercise 3b\n",
        "- Compute and store `R=1000` random values from 0-1 as `x`.\n",
        "- Compute the moving window average for `x` for values of `n_neighbors` ranging from 1 to 9 inclusive.\n",
        "- Store `x` as well as each of these averages as consecutive lists in a list called `Y`"
      ]
    },
    {
      "cell_type": "code",
      "metadata": {
        "id": "8Dt7XNpoHCli"
      },
      "source": [
        "import random\n",
        "random.seed(1) # This line fixes the value called by your function,\n",
        "               # and is used for answer-checking.\n",
        "    \n",
        "# write your code here!\n",
        "R = 1000\n",
        "x = list(np.random.uniform(low=0, high=1, size=(R)))\n",
        "Y = []\n",
        "for neig in range(1,9+1):\n",
        "  mwa = moving_window_average(x, neig)\n",
        "  Y.append(mwa)"
      ],
      "execution_count": null,
      "outputs": []
    },
    {
      "cell_type": "code",
      "source": [
        "# My way: instead of a list of lists we create a dictionary\n",
        "# Easier to look for\n",
        "\n",
        "import random\n",
        "random.seed(1) # This line fixes the value called by your function,\n",
        "               # and is used for answer-checking.\n",
        "    \n",
        "# write your code here!\n",
        "R = 1000\n",
        "x = list(np.random.uniform(low=0, high=1, size=(R)))\n",
        "Y_dict = {}\n",
        "for neig in range(1,9+1):\n",
        "  Y_dict[neig] = {}\n",
        "  Y_dict[neig]['x'] = x\n",
        "  mwa = moving_window_average(x, neig)\n",
        "  Y_dict[neig]['mwa'] = mwa"
      ],
      "metadata": {
        "id": "qM4FFXvE6pK3"
      },
      "execution_count": null,
      "outputs": []
    },
    {
      "cell_type": "code",
      "source": [
        "Y_dict[5]['mwa'][:11]"
      ],
      "metadata": {
        "colab": {
          "base_uri": "https://localhost:8080/"
        },
        "id": "X70dUpVGnfkd",
        "outputId": "af5d26ee-e0a5-4eef-bb2d-532108464740"
      },
      "execution_count": null,
      "outputs": [
        {
          "output_type": "execute_result",
          "data": {
            "text/plain": [
              "[0.37116108589122343,\n",
              " 0.4518273252237877,\n",
              " 0.46594716118199603,\n",
              " 0.5361159994015784,\n",
              " 0.5427494575694799,\n",
              " 0.5662602438675332,\n",
              " 0.5643161751400296,\n",
              " 0.5675455216648104,\n",
              " 0.5152914888027648,\n",
              " 0.46767563419008285,\n",
              " 0.46642125977748583]"
            ]
          },
          "metadata": {},
          "execution_count": 45
        }
      ]
    },
    {
      "cell_type": "markdown",
      "metadata": {
        "id": "mG5G8vW9HCli"
      },
      "source": [
        "#### Exercise 3c\n",
        "\n",
        "- For each list in `Y`, calculate and store the range (the maximum minus the minimum) in a new list ranges.\n",
        "- Print your answer. As the window width increases, does the range of each list increase or decrease? Why do you think that is?"
      ]
    },
    {
      "cell_type": "code",
      "metadata": {
        "id": "K3MxhIA-HCli",
        "colab": {
          "base_uri": "https://localhost:8080/"
        },
        "outputId": "98aa0ae2-6584-4d58-e9f5-d1edcd22a51f"
      },
      "source": [
        "# write your code here!\n",
        "ranges = []\n",
        "for lst in Y:\n",
        "  maxim = max(lst)\n",
        "  minim = min(lst)\n",
        "  ranges.append([maxim,minim])\n",
        "\n",
        "ranges"
      ],
      "execution_count": null,
      "outputs": [
        {
          "output_type": "execute_result",
          "data": {
            "text/plain": [
              "[[0.9311817523719655, 0.07695630629644919],\n",
              " [0.8928573206095842, 0.1421717234004624],\n",
              " [0.8219155785027409, 0.1376005517081373],\n",
              " [0.7596805921774968, 0.21661935669833252],\n",
              " [0.7439271542994358, 0.25371943646136574],\n",
              " [0.7621522667749647, 0.2942564802893286],\n",
              " [0.7457014514369181, 0.31108304208322973],\n",
              " [0.7245353742786077, 0.33803369621867474],\n",
              " [0.6998463138718296, 0.36753392721613726]]"
            ]
          },
          "metadata": {},
          "execution_count": 47
        }
      ]
    }
  ]
}